{
 "cells": [
  {
   "cell_type": "markdown",
   "id": "44f4cfb2-fe9d-4fff-b1d3-421ac40cedca",
   "metadata": {},
   "source": [
    "# Data Science Tools and Ecosystem"
   ]
  },
  {
   "cell_type": "markdown",
   "id": "a232a115-d80e-4f22-8b29-52e7c1771890",
   "metadata": {},
   "source": [
    "In this notebook, Data Science Tools and Ecosystem are summarized."
   ]
  },
  {
   "cell_type": "markdown",
   "id": "57b76d61-7fc1-4d9a-9c82-9ef9725f93c4",
   "metadata": {},
   "source": [
    "Objectives:\n",
    "- Create markdown cells\n",
    "- Apply different heading styles\n",
    "- Evaluate arithmetric expression using python.\n",
    "- List popular languages, tools and libraries used in data science\n",
    "  "
   ]
  },
  {
   "cell_type": "markdown",
   "id": "a4e3d171-bd9c-40c0-8ee7-afb5fb45bfc9",
   "metadata": {},
   "source": [
    "Some of the popular languages that Data Scientists use are:\n",
    "\n",
    "1. Python\n",
    "2. R\n",
    "3. SQL\n",
    "4. Scala\n",
    "5. Java\n",
    "6. C++\n",
    "7. Julia\n",
    "8. Javascript"
   ]
  },
  {
   "cell_type": "markdown",
   "id": "a0b2053e-a702-40e5-9db1-b403dfa8c3ff",
   "metadata": {},
   "source": [
    "Some of the commonly used libraries used by Data Scientists include:\n",
    "\n",
    "1. Pandas\n",
    "2. Numpy\n",
    "3. Matplotlib\n",
    "4. Seaborn\n",
    "5. Scikit-learn\n",
    "6. Keras\n",
    "7. Tensorflow\n",
    "8. PyTorch\n",
    "9. Apache Spark"
   ]
  },
  {
   "cell_type": "code",
   "execution_count": 33,
   "id": "96bc1c4b-be7e-43a2-9ed8-cd6dc8d01c07",
   "metadata": {},
   "outputs": [
    {
     "data": {
      "text/html": [
       "<style>table { margin-left: 0 !important; }</style>"
      ],
      "text/plain": [
       "<IPython.core.display.HTML object>"
      ]
     },
     "metadata": {},
     "output_type": "display_data"
    }
   ],
   "source": [
    "# Inlcuded Python code to left-align the table\n",
    "\n",
    "from IPython.display import display, HTML\n",
    "display(HTML(\"<style>table { margin-left: 0 !important; }</style>\"))\n"
   ]
  },
  {
   "cell_type": "markdown",
   "id": "ee939380-2693-45a2-9172-f8ba9ed66a64",
   "metadata": {},
   "source": [
    "| Data Science Tools      |\n",
    "|------------------------|\n",
    "| Anaconda               |\n",
    "| Jupyter Notebook       |\n",
    "| RStudio                |\n",
    "| Spyder                 |"
   ]
  },
  {
   "cell_type": "markdown",
   "id": "78ab5818-e6b4-4b9d-b7df-f811214530b5",
   "metadata": {},
   "source": [
    "### Below are a few examples of evaluating arithmetic expressions in Python."
   ]
  },
  {
   "cell_type": "code",
   "execution_count": 27,
   "id": "63aeed11-cd3f-4712-86ba-f926934c7b74",
   "metadata": {},
   "outputs": [
    {
     "data": {
      "text/plain": [
       "17"
      ]
     },
     "execution_count": 27,
     "metadata": {},
     "output_type": "execute_result"
    }
   ],
   "source": [
    "# This a simple arithmetic expression to mutiply then add integers.\n",
    "\n",
    "(3*4)+5"
   ]
  },
  {
   "cell_type": "code",
   "execution_count": 28,
   "id": "78b0ffdf-cd3b-4bd1-8016-8b67910937dc",
   "metadata": {},
   "outputs": [
    {
     "data": {
      "text/plain": [
       "3.3333333333333335"
      ]
     },
     "execution_count": 28,
     "metadata": {},
     "output_type": "execute_result"
    }
   ],
   "source": [
    "# This will convert 200 minutes to hours by diving by 60.\n",
    "\n",
    "200 / 60"
   ]
  },
  {
   "cell_type": "markdown",
   "id": "e81b8a37-8b49-406c-9e91-a0b24518cf35",
   "metadata": {},
   "source": [
    "## Author\n",
    "\n",
    "Justin Kodurand"
   ]
  },
  {
   "cell_type": "code",
   "execution_count": null,
   "id": "fa44ed9c-da70-479e-9f64-4475e661a47d",
   "metadata": {},
   "outputs": [],
   "source": []
  }
 ],
 "metadata": {
  "kernelspec": {
   "display_name": "Python [conda env:JK_Env]",
   "language": "python",
   "name": "conda-env-JK_Env-py"
  },
  "language_info": {
   "codemirror_mode": {
    "name": "ipython",
    "version": 3
   },
   "file_extension": ".py",
   "mimetype": "text/x-python",
   "name": "python",
   "nbconvert_exporter": "python",
   "pygments_lexer": "ipython3",
   "version": "3.13.2"
  }
 },
 "nbformat": 4,
 "nbformat_minor": 5
}
